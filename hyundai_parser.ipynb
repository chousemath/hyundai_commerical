{
  "nbformat": 4,
  "nbformat_minor": 0,
  "metadata": {
    "colab": {
      "name": "hyundai_parser.ipynb",
      "provenance": []
    },
    "kernelspec": {
      "name": "python3",
      "display_name": "Python 3"
    }
  },
  "cells": [
    {
      "cell_type": "code",
      "metadata": {
        "id": "I76Cc_eugUn4"
      },
      "source": [
        "import csv\n",
        "import numpy as np\n",
        "import pandas as pd\n",
        "from google.colab import files"
      ],
      "execution_count": null,
      "outputs": []
    },
    {
      "cell_type": "code",
      "metadata": {
        "colab": {
          "resources": {
            "http://localhost:8080/nbextensions/google.colab/files.js": {
              "data": "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",
              "ok": true,
              "headers": [
                [
                  "content-type",
                  "application/javascript"
                ]
              ],
              "status": 200,
              "status_text": ""
            }
          },
          "base_uri": "https://localhost:8080/",
          "height": 72
        },
        "id": "aznGavoIgc0m",
        "outputId": "98da355e-6c5f-4e75-d905-0c4b34fa7f83"
      },
      "source": [
        "f = files.upload()\n",
        "fname = list(f.keys())[0]"
      ],
      "execution_count": null,
      "outputs": [
        {
          "output_type": "display_data",
          "data": {
            "text/html": [
              "\n",
              "     <input type=\"file\" id=\"files-95c74775-a911-4ba2-beeb-c8c81fec4b18\" name=\"files[]\" multiple disabled\n",
              "        style=\"border:none\" />\n",
              "     <output id=\"result-95c74775-a911-4ba2-beeb-c8c81fec4b18\">\n",
              "      Upload widget is only available when the cell has been executed in the\n",
              "      current browser session. Please rerun this cell to enable.\n",
              "      </output>\n",
              "      <script src=\"/nbextensions/google.colab/files.js\"></script> "
            ],
            "text/plain": [
              "<IPython.core.display.HTML object>"
            ]
          },
          "metadata": {
            "tags": []
          }
        },
        {
          "output_type": "stream",
          "text": [
            "Saving db.csv to db (1).csv\n"
          ],
          "name": "stdout"
        }
      ]
    },
    {
      "cell_type": "code",
      "metadata": {
        "colab": {
          "base_uri": "https://localhost:8080/",
          "height": 419
        },
        "id": "6lcIJ3GGgq6s",
        "outputId": "c3d57cad-7012-4b62-ddb6-81b9e77bea37"
      },
      "source": [
        "df = pd.read_csv(fname)\n",
        "df.sort_values(by=['_id'])"
      ],
      "execution_count": null,
      "outputs": [
        {
          "output_type": "execute_result",
          "data": {
            "text/html": [
              "<div>\n",
              "<style scoped>\n",
              "    .dataframe tbody tr th:only-of-type {\n",
              "        vertical-align: middle;\n",
              "    }\n",
              "\n",
              "    .dataframe tbody tr th {\n",
              "        vertical-align: top;\n",
              "    }\n",
              "\n",
              "    .dataframe thead th {\n",
              "        text-align: right;\n",
              "    }\n",
              "</style>\n",
              "<table border=\"1\" class=\"dataframe\">\n",
              "  <thead>\n",
              "    <tr style=\"text-align: right;\">\n",
              "      <th></th>\n",
              "      <th>_id</th>\n",
              "      <th>category1</th>\n",
              "      <th>category2</th>\n",
              "      <th>maker</th>\n",
              "      <th>category3</th>\n",
              "      <th>standard</th>\n",
              "      <th>vehicleType</th>\n",
              "      <th>year</th>\n",
              "      <th>mainPrice</th>\n",
              "      <th>privatePrice</th>\n",
              "    </tr>\n",
              "  </thead>\n",
              "  <tbody>\n",
              "    <tr>\n",
              "      <th>0</th>\n",
              "      <td>운반장비 지게차 (주)삼호정공 (SGJ) 포크리프트 2.5톤 (2.5T) 삼호2.5...</td>\n",
              "      <td>운반장비</td>\n",
              "      <td>지게차</td>\n",
              "      <td>(주)삼호정공 (SGJ)</td>\n",
              "      <td>포크리프트</td>\n",
              "      <td>2.5톤 (2.5T)</td>\n",
              "      <td>삼호2.5톤DF25지게차 (GJ03B)</td>\n",
              "      <td>1999</td>\n",
              "      <td>2,400,000</td>\n",
              "      <td>2,400,000</td>\n",
              "    </tr>\n",
              "    <tr>\n",
              "      <th>1</th>\n",
              "      <td>운반장비 지게차 (주)삼호정공 (SGJ) 포크리프트 2.5톤 (2.5T) 삼호2.5...</td>\n",
              "      <td>운반장비</td>\n",
              "      <td>지게차</td>\n",
              "      <td>(주)삼호정공 (SGJ)</td>\n",
              "      <td>포크리프트</td>\n",
              "      <td>2.5톤 (2.5T)</td>\n",
              "      <td>삼호2.5톤DF25지게차 (GJ03B)</td>\n",
              "      <td>2000</td>\n",
              "      <td>2,700,000</td>\n",
              "      <td>2,700,000</td>\n",
              "    </tr>\n",
              "    <tr>\n",
              "      <th>2</th>\n",
              "      <td>운반장비 지게차 (주)삼호정공 (SGJ) 포크리프트 2.5톤 (2.5T) 삼호2.5...</td>\n",
              "      <td>운반장비</td>\n",
              "      <td>지게차</td>\n",
              "      <td>(주)삼호정공 (SGJ)</td>\n",
              "      <td>포크리프트</td>\n",
              "      <td>2.5톤 (2.5T)</td>\n",
              "      <td>삼호2.5톤DF25지게차 (GJ03B)</td>\n",
              "      <td>2001</td>\n",
              "      <td>3,400,000</td>\n",
              "      <td>3,400,000</td>\n",
              "    </tr>\n",
              "    <tr>\n",
              "      <th>3</th>\n",
              "      <td>운반장비 지게차 (주)삼호정공 (SGJ) 포크리프트 2.5톤 (2.5T) 삼호2.5...</td>\n",
              "      <td>운반장비</td>\n",
              "      <td>지게차</td>\n",
              "      <td>(주)삼호정공 (SGJ)</td>\n",
              "      <td>포크리프트</td>\n",
              "      <td>2.5톤 (2.5T)</td>\n",
              "      <td>삼호2.5톤DF25지게차 (GJ03B)</td>\n",
              "      <td>2002</td>\n",
              "      <td>4,200,000</td>\n",
              "      <td>4,200,000</td>\n",
              "    </tr>\n",
              "    <tr>\n",
              "      <th>4</th>\n",
              "      <td>운반장비 지게차 (주)삼호정공 (SGJ) 포크리프트 2.5톤 (2.5T) 삼호2.5...</td>\n",
              "      <td>운반장비</td>\n",
              "      <td>지게차</td>\n",
              "      <td>(주)삼호정공 (SGJ)</td>\n",
              "      <td>포크리프트</td>\n",
              "      <td>2.5톤 (2.5T)</td>\n",
              "      <td>삼호2.5톤DF25지게차 (GJ03B)</td>\n",
              "      <td>2003</td>\n",
              "      <td>5,200,000</td>\n",
              "      <td>5,200,000</td>\n",
              "    </tr>\n",
              "    <tr>\n",
              "      <th>...</th>\n",
              "      <td>...</td>\n",
              "      <td>...</td>\n",
              "      <td>...</td>\n",
              "      <td>...</td>\n",
              "      <td>...</td>\n",
              "      <td>...</td>\n",
              "      <td>...</td>\n",
              "      <td>...</td>\n",
              "      <td>...</td>\n",
              "      <td>...</td>\n",
              "    </tr>\n",
              "    <tr>\n",
              "      <th>7920</th>\n",
              "      <td>토공장비 로우더 현대중공업 (HHI) 페이로우더 5.4루베 (5.4M3) 현대HL7...</td>\n",
              "      <td>토공장비</td>\n",
              "      <td>로우더</td>\n",
              "      <td>현대중공업 (HHI)</td>\n",
              "      <td>페이로우더</td>\n",
              "      <td>5.4루베 (5.4M3)</td>\n",
              "      <td>현대HL780-9 (HH10W)</td>\n",
              "      <td>2013</td>\n",
              "      <td>122,800,000</td>\n",
              "      <td>122,800,000</td>\n",
              "    </tr>\n",
              "    <tr>\n",
              "      <th>7921</th>\n",
              "      <td>토공장비 로우더 현대중공업 (HHI) 페이로우더 5.4루베 (5.4M3) 현대HL7...</td>\n",
              "      <td>토공장비</td>\n",
              "      <td>로우더</td>\n",
              "      <td>현대중공업 (HHI)</td>\n",
              "      <td>페이로우더</td>\n",
              "      <td>5.4루베 (5.4M3)</td>\n",
              "      <td>현대HL780-9 (HH10W)</td>\n",
              "      <td>2014</td>\n",
              "      <td>139,500,000</td>\n",
              "      <td>139,500,000</td>\n",
              "    </tr>\n",
              "    <tr>\n",
              "      <th>7922</th>\n",
              "      <td>토공장비 로우더 현대중공업 (HHI) 페이로우더 5.4루베 (5.4M3) 현대HL7...</td>\n",
              "      <td>토공장비</td>\n",
              "      <td>로우더</td>\n",
              "      <td>현대중공업 (HHI)</td>\n",
              "      <td>페이로우더</td>\n",
              "      <td>5.4루베 (5.4M3)</td>\n",
              "      <td>현대HL780-9 (HH10W)</td>\n",
              "      <td>2015</td>\n",
              "      <td>144,800,000</td>\n",
              "      <td>144,800,000</td>\n",
              "    </tr>\n",
              "    <tr>\n",
              "      <th>7923</th>\n",
              "      <td>토공장비 로우더 현대중공업 (HHI) 페이로우더 5.6루베 (5.6M3) 현대HL9...</td>\n",
              "      <td>토공장비</td>\n",
              "      <td>로우더</td>\n",
              "      <td>현대중공업 (HHI)</td>\n",
              "      <td>페이로우더</td>\n",
              "      <td>5.6루베 (5.6M3)</td>\n",
              "      <td>현대HL980 (HH101)</td>\n",
              "      <td>2016</td>\n",
              "      <td>182,500,000</td>\n",
              "      <td>182,500,000</td>\n",
              "    </tr>\n",
              "    <tr>\n",
              "      <th>7924</th>\n",
              "      <td>특수목적 공기압축기 두산인프라코어 (DIC) 공기압축기 33.1루베 (33.1M3)...</td>\n",
              "      <td>특수목적</td>\n",
              "      <td>공기압축기</td>\n",
              "      <td>두산인프라코어 (DIC)</td>\n",
              "      <td>공기압축기</td>\n",
              "      <td>33.1루베 (33.1M3)</td>\n",
              "      <td>두산33.1루베공기압축기(XHP1170WCU) (DI9BD)</td>\n",
              "      <td>2017</td>\n",
              "      <td>102,000,000</td>\n",
              "      <td>102,000,000</td>\n",
              "    </tr>\n",
              "  </tbody>\n",
              "</table>\n",
              "<p>7925 rows × 10 columns</p>\n",
              "</div>"
            ],
            "text/plain": [
              "                                                    _id  ... privatePrice\n",
              "0     운반장비 지게차 (주)삼호정공 (SGJ) 포크리프트 2.5톤 (2.5T) 삼호2.5...  ...    2,400,000\n",
              "1     운반장비 지게차 (주)삼호정공 (SGJ) 포크리프트 2.5톤 (2.5T) 삼호2.5...  ...    2,700,000\n",
              "2     운반장비 지게차 (주)삼호정공 (SGJ) 포크리프트 2.5톤 (2.5T) 삼호2.5...  ...    3,400,000\n",
              "3     운반장비 지게차 (주)삼호정공 (SGJ) 포크리프트 2.5톤 (2.5T) 삼호2.5...  ...    4,200,000\n",
              "4     운반장비 지게차 (주)삼호정공 (SGJ) 포크리프트 2.5톤 (2.5T) 삼호2.5...  ...    5,200,000\n",
              "...                                                 ...  ...          ...\n",
              "7920  토공장비 로우더 현대중공업 (HHI) 페이로우더 5.4루베 (5.4M3) 현대HL7...  ...  122,800,000\n",
              "7921  토공장비 로우더 현대중공업 (HHI) 페이로우더 5.4루베 (5.4M3) 현대HL7...  ...  139,500,000\n",
              "7922  토공장비 로우더 현대중공업 (HHI) 페이로우더 5.4루베 (5.4M3) 현대HL7...  ...  144,800,000\n",
              "7923  토공장비 로우더 현대중공업 (HHI) 페이로우더 5.6루베 (5.6M3) 현대HL9...  ...  182,500,000\n",
              "7924  특수목적 공기압축기 두산인프라코어 (DIC) 공기압축기 33.1루베 (33.1M3)...  ...  102,000,000\n",
              "\n",
              "[7925 rows x 10 columns]"
            ]
          },
          "metadata": {
            "tags": []
          },
          "execution_count": 11
        }
      ]
    },
    {
      "cell_type": "code",
      "metadata": {
        "colab": {
          "base_uri": "https://localhost:8080/",
          "height": 204
        },
        "id": "NdvkzaoDhIia",
        "outputId": "485b7613-ebc9-40d6-dae0-c8c9ad7332dd"
      },
      "source": [
        "df2 = df.drop(columns=['_id'])\n",
        "df2.rename(columns={\n",
        "  'category1': '대구분',\n",
        "  'category2': '중구분',\n",
        "  'maker': '메이커',\n",
        "  'category3': '소구분',\n",
        "  'standard': '규격',\n",
        "  'vehicleType': '세부차종',\n",
        "  'year': '차량연식',\n",
        "  'mainPrice': '대표가격',\n",
        "  'privatePrice': '자가용가격',\n",
        "}, inplace=True)\n",
        "df2.to_csv('hyundaicommercial.csv', index=False)\n",
        "files.download('hyundaicommercial.csv') \n",
        "df2.head()"
      ],
      "execution_count": null,
      "outputs": [
        {
          "output_type": "display_data",
          "data": {
            "application/javascript": [
              "\n",
              "    async function download(id, filename, size) {\n",
              "      if (!google.colab.kernel.accessAllowed) {\n",
              "        return;\n",
              "      }\n",
              "      const div = document.createElement('div');\n",
              "      const label = document.createElement('label');\n",
              "      label.textContent = `Downloading \"${filename}\": `;\n",
              "      div.appendChild(label);\n",
              "      const progress = document.createElement('progress');\n",
              "      progress.max = size;\n",
              "      div.appendChild(progress);\n",
              "      document.body.appendChild(div);\n",
              "\n",
              "      const buffers = [];\n",
              "      let downloaded = 0;\n",
              "\n",
              "      const channel = await google.colab.kernel.comms.open(id);\n",
              "      // Send a message to notify the kernel that we're ready.\n",
              "      channel.send({})\n",
              "\n",
              "      for await (const message of channel.messages) {\n",
              "        // Send a message to notify the kernel that we're ready.\n",
              "        channel.send({})\n",
              "        if (message.buffers) {\n",
              "          for (const buffer of message.buffers) {\n",
              "            buffers.push(buffer);\n",
              "            downloaded += buffer.byteLength;\n",
              "            progress.value = downloaded;\n",
              "          }\n",
              "        }\n",
              "      }\n",
              "      const blob = new Blob(buffers, {type: 'application/binary'});\n",
              "      const a = document.createElement('a');\n",
              "      a.href = window.URL.createObjectURL(blob);\n",
              "      a.download = filename;\n",
              "      div.appendChild(a);\n",
              "      a.click();\n",
              "      div.remove();\n",
              "    }\n",
              "  "
            ],
            "text/plain": [
              "<IPython.core.display.Javascript object>"
            ]
          },
          "metadata": {
            "tags": []
          }
        },
        {
          "output_type": "display_data",
          "data": {
            "application/javascript": [
              "download(\"download_75335d85-33c4-462c-bd1f-767272c72956\", \"hyundaicommercial.csv\", 1031600)"
            ],
            "text/plain": [
              "<IPython.core.display.Javascript object>"
            ]
          },
          "metadata": {
            "tags": []
          }
        },
        {
          "output_type": "execute_result",
          "data": {
            "text/html": [
              "<div>\n",
              "<style scoped>\n",
              "    .dataframe tbody tr th:only-of-type {\n",
              "        vertical-align: middle;\n",
              "    }\n",
              "\n",
              "    .dataframe tbody tr th {\n",
              "        vertical-align: top;\n",
              "    }\n",
              "\n",
              "    .dataframe thead th {\n",
              "        text-align: right;\n",
              "    }\n",
              "</style>\n",
              "<table border=\"1\" class=\"dataframe\">\n",
              "  <thead>\n",
              "    <tr style=\"text-align: right;\">\n",
              "      <th></th>\n",
              "      <th>대구분</th>\n",
              "      <th>중구분</th>\n",
              "      <th>메이커</th>\n",
              "      <th>소구분</th>\n",
              "      <th>규격</th>\n",
              "      <th>세부차종</th>\n",
              "      <th>차량연식</th>\n",
              "      <th>대표가격</th>\n",
              "      <th>자가용가격</th>\n",
              "    </tr>\n",
              "  </thead>\n",
              "  <tbody>\n",
              "    <tr>\n",
              "      <th>0</th>\n",
              "      <td>운반장비</td>\n",
              "      <td>지게차</td>\n",
              "      <td>(주)삼호정공 (SGJ)</td>\n",
              "      <td>포크리프트</td>\n",
              "      <td>2.5톤 (2.5T)</td>\n",
              "      <td>삼호2.5톤DF25지게차 (GJ03B)</td>\n",
              "      <td>1999</td>\n",
              "      <td>2,400,000</td>\n",
              "      <td>2,400,000</td>\n",
              "    </tr>\n",
              "    <tr>\n",
              "      <th>1</th>\n",
              "      <td>운반장비</td>\n",
              "      <td>지게차</td>\n",
              "      <td>(주)삼호정공 (SGJ)</td>\n",
              "      <td>포크리프트</td>\n",
              "      <td>2.5톤 (2.5T)</td>\n",
              "      <td>삼호2.5톤DF25지게차 (GJ03B)</td>\n",
              "      <td>2000</td>\n",
              "      <td>2,700,000</td>\n",
              "      <td>2,700,000</td>\n",
              "    </tr>\n",
              "    <tr>\n",
              "      <th>2</th>\n",
              "      <td>운반장비</td>\n",
              "      <td>지게차</td>\n",
              "      <td>(주)삼호정공 (SGJ)</td>\n",
              "      <td>포크리프트</td>\n",
              "      <td>2.5톤 (2.5T)</td>\n",
              "      <td>삼호2.5톤DF25지게차 (GJ03B)</td>\n",
              "      <td>2001</td>\n",
              "      <td>3,400,000</td>\n",
              "      <td>3,400,000</td>\n",
              "    </tr>\n",
              "    <tr>\n",
              "      <th>3</th>\n",
              "      <td>운반장비</td>\n",
              "      <td>지게차</td>\n",
              "      <td>(주)삼호정공 (SGJ)</td>\n",
              "      <td>포크리프트</td>\n",
              "      <td>2.5톤 (2.5T)</td>\n",
              "      <td>삼호2.5톤DF25지게차 (GJ03B)</td>\n",
              "      <td>2002</td>\n",
              "      <td>4,200,000</td>\n",
              "      <td>4,200,000</td>\n",
              "    </tr>\n",
              "    <tr>\n",
              "      <th>4</th>\n",
              "      <td>운반장비</td>\n",
              "      <td>지게차</td>\n",
              "      <td>(주)삼호정공 (SGJ)</td>\n",
              "      <td>포크리프트</td>\n",
              "      <td>2.5톤 (2.5T)</td>\n",
              "      <td>삼호2.5톤DF25지게차 (GJ03B)</td>\n",
              "      <td>2003</td>\n",
              "      <td>5,200,000</td>\n",
              "      <td>5,200,000</td>\n",
              "    </tr>\n",
              "  </tbody>\n",
              "</table>\n",
              "</div>"
            ],
            "text/plain": [
              "    대구분  중구분            메이커  ...  차량연식       대표가격      자가용가격\n",
              "0  운반장비  지게차  (주)삼호정공 (SGJ)  ...  1999  2,400,000  2,400,000\n",
              "1  운반장비  지게차  (주)삼호정공 (SGJ)  ...  2000  2,700,000  2,700,000\n",
              "2  운반장비  지게차  (주)삼호정공 (SGJ)  ...  2001  3,400,000  3,400,000\n",
              "3  운반장비  지게차  (주)삼호정공 (SGJ)  ...  2002  4,200,000  4,200,000\n",
              "4  운반장비  지게차  (주)삼호정공 (SGJ)  ...  2003  5,200,000  5,200,000\n",
              "\n",
              "[5 rows x 9 columns]"
            ]
          },
          "metadata": {
            "tags": []
          },
          "execution_count": 12
        }
      ]
    }
  ]
}